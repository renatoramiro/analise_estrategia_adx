{
 "cells": [
  {
   "cell_type": "markdown",
   "metadata": {},
   "source": [
    "# Análise Estratégia com ADX"
   ]
  },
  {
   "cell_type": "markdown",
   "metadata": {},
   "source": [
    "### Estratégia a ser analisada\n",
    "\n",
    "* Indicador ADX DI+\n",
    "* Sinal de Entrada: cruzamento do indicador com a linha de 20 do threshold\n",
    "* Sinal de Saída: foi utilizado uma quantidade 'X' de candles para saída\n",
    "* Gráfico de Heikin-Ashi no gráfico de 5 minutos\n",
    "* Par: ADA/USDT\n",
    "* Tempo de backtest: 2022-03-01 03:00:00 a 2022-04-27 02:55:00\n"
   ]
  },
  {
   "cell_type": "markdown",
   "metadata": {},
   "source": [
    "### Exemplo de Compra\n",
    "\n",
    "![alt text](sinal_compra.png \"Sinal de Compra\")"
   ]
  },
  {
   "cell_type": "markdown",
   "metadata": {},
   "source": [
    "### Resultado acumulado (%) por candle"
   ]
  },
  {
   "cell_type": "markdown",
   "metadata": {},
   "source": [
    "![alt text](grafico_resultado.png \"Resultado Acumulado\")"
   ]
  },
  {
   "cell_type": "code",
   "execution_count": null,
   "metadata": {},
   "outputs": [],
   "source": []
  }
 ],
 "metadata": {
  "kernelspec": {
   "display_name": "Python 3",
   "language": "python",
   "name": "python3"
  },
  "language_info": {
   "codemirror_mode": {
    "name": "ipython",
    "version": 3
   },
   "file_extension": ".py",
   "mimetype": "text/x-python",
   "name": "python",
   "nbconvert_exporter": "python",
   "pygments_lexer": "ipython3",
   "version": "3.8.5"
  }
 },
 "nbformat": 4,
 "nbformat_minor": 4
}
